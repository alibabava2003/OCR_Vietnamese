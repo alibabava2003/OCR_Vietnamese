{
  "nbformat": 4,
  "nbformat_minor": 0,
  "metadata": {
    "colab": {
      "provenance": [],
      "include_colab_link": true
    },
    "kernelspec": {
      "name": "python3",
      "display_name": "Python 3"
    },
    "language_info": {
      "name": "python"
    }
  },
  "cells": [
    {
      "cell_type": "markdown",
      "metadata": {
        "id": "view-in-github",
        "colab_type": "text"
      },
      "source": [
        "<a href=\"https://colab.research.google.com/github/alibabava2003/OCR_Vietnamese/blob/main/data_preparation/AUGUMENT_DATA.ipynb\" target=\"_parent\"><img src=\"https://colab.research.google.com/assets/colab-badge.svg\" alt=\"Open In Colab\"/></a>"
      ]
    },
    {
      "cell_type": "code",
      "execution_count": null,
      "metadata": {
        "colab": {
          "base_uri": "https://localhost:8080/"
        },
        "id": "0PwI74a8xbfo",
        "outputId": "b2ace5c6-efca-46b7-9151-c4c4a9e9ccb9"
      },
      "outputs": [
        {
          "output_type": "stream",
          "name": "stdout",
          "text": [
            "Requirement already satisfied: albumentations in /usr/local/lib/python3.11/dist-packages (2.0.5)\n",
            "Requirement already satisfied: opencv-python in /usr/local/lib/python3.11/dist-packages (4.11.0.86)\n",
            "Requirement already satisfied: numpy in /usr/local/lib/python3.11/dist-packages (1.26.4)\n",
            "Requirement already satisfied: scipy>=1.10.0 in /usr/local/lib/python3.11/dist-packages (from albumentations) (1.14.1)\n",
            "Requirement already satisfied: PyYAML in /usr/local/lib/python3.11/dist-packages (from albumentations) (6.0.2)\n",
            "Requirement already satisfied: pydantic>=2.9.2 in /usr/local/lib/python3.11/dist-packages (from albumentations) (2.10.6)\n",
            "Requirement already satisfied: albucore==0.0.23 in /usr/local/lib/python3.11/dist-packages (from albumentations) (0.0.23)\n",
            "Requirement already satisfied: opencv-python-headless>=4.9.0.80 in /usr/local/lib/python3.11/dist-packages (from albumentations) (4.11.0.86)\n",
            "Requirement already satisfied: stringzilla>=3.10.4 in /usr/local/lib/python3.11/dist-packages (from albucore==0.0.23->albumentations) (3.12.2)\n",
            "Requirement already satisfied: simsimd>=5.9.2 in /usr/local/lib/python3.11/dist-packages (from albucore==0.0.23->albumentations) (6.2.1)\n",
            "Requirement already satisfied: annotated-types>=0.6.0 in /usr/local/lib/python3.11/dist-packages (from pydantic>=2.9.2->albumentations) (0.7.0)\n",
            "Requirement already satisfied: pydantic-core==2.27.2 in /usr/local/lib/python3.11/dist-packages (from pydantic>=2.9.2->albumentations) (2.27.2)\n",
            "Requirement already satisfied: typing-extensions>=4.12.2 in /usr/local/lib/python3.11/dist-packages (from pydantic>=2.9.2->albumentations) (4.12.2)\n"
          ]
        }
      ],
      "source": [
        "pip install albumentations opencv-python numpy\n"
      ]
    },
    {
      "cell_type": "code",
      "source": [
        "import os\n",
        "import cv2\n",
        "import numpy as np\n",
        "import albumentations as A\n",
        "\n",
        "# Thư mục chứa ảnh gốc và ảnh augmented\n",
        "input_folder = \"/content/drive/MyDrive/dataaaaaa/OCR_dataset/Line/images\"\n",
        "output_folder = \"/content/images4\"\n",
        "label_file = \"/content/drive/MyDrive/dataaaaaa/OCR_dataset/Line/labels.txt\"\n",
        "output_label_file = \"/content/labels4.txt\"\n",
        "\n",
        "os.makedirs(output_folder, exist_ok=True)\n",
        "\n",
        "# Số ảnh augment mỗi ảnh gốc\n",
        "num_augmentations = 5\n",
        "\n",
        "# Hàm thêm padding lớn trước khi augment\n",
        "def add_padding(image, pad=30):\n",
        "    return cv2.copyMakeBorder(image, pad, pad, pad, pad, cv2.BORDER_CONSTANT, value=(255, 255, 255))\n",
        "\n",
        "# Hàm cắt lại phần chứa chữ (loại bỏ khoảng trắng thừa)\n",
        "def crop_to_content(image, threshold=240):\n",
        "    gray = cv2.cvtColor(image, cv2.COLOR_BGR2GRAY)\n",
        "    _, thresh = cv2.threshold(gray, threshold, 255, cv2.THRESH_BINARY_INV)\n",
        "    coords = cv2.findNonZero(thresh)\n",
        "    if coords is not None:\n",
        "        x, y, w, h = cv2.boundingRect(coords)\n",
        "        return image[y:y+h, x:x+w]\n",
        "    return image\n",
        "\n",
        "# Tạo pipeline augment\n",
        "transform = A.Compose([\n",
        "    A.Rotate(limit=8, border_mode=cv2.BORDER_CONSTANT, value=(255, 255, 255), p=0.7),\n",
        "    A.Affine(shear={\"x\": (-10, 10), \"y\": (-10, 10)}, p=0.5),\n",
        "    A.GaussNoise(p=0.5),\n",
        "    A.MotionBlur(blur_limit=3, p=0.4),\n",
        "    A.RandomBrightnessContrast(brightness_limit=0.3, contrast_limit=0.3, p=0.5),\n",
        "    A.ToGray(p=0.3),\n",
        "    A.Perspective(scale=(0.02, 0.08), p=0.3),\n",
        "    A.GridDistortion(num_steps=5, distort_limit=0.3, p=0.3),\n",
        "    A.Downscale(scale_min=0.6, scale_max=0.9, p=0.2),\n",
        "])\n",
        "\n",
        "# Đọc file label gốc\n",
        "with open(label_file, \"r\", encoding=\"utf-8\") as file:\n",
        "    lines = file.readlines()\n",
        "\n",
        "# Tạo file label mới\n",
        "with open(output_label_file, \"w\", encoding=\"utf-8\") as file:\n",
        "    for line in lines:\n",
        "        img_name, text = line.strip().split(\"\\t\", 1)\n",
        "        img_path = os.path.join(input_folder, img_name)\n",
        "\n",
        "        # Ghi tên file gốc vào file mới\n",
        "        file.write(f\"{img_name}\\t{text}\\n\")\n",
        "\n",
        "        # Đọc ảnh gốc\n",
        "        image = cv2.imread(img_path)\n",
        "        if image is None:\n",
        "            continue\n",
        "\n",
        "        # Thêm padding trước khi augment\n",
        "        image = add_padding(image, pad=50)  # 🛠 Tăng padding lớn hơn\n",
        "\n",
        "        # Tạo nhiều ảnh augment\n",
        "        for i in range(num_augmentations):\n",
        "            augmented = transform(image=image)[\"image\"]\n",
        "\n",
        "            # Cắt lại vùng chứa chữ\n",
        "            augmented = crop_to_content(augmented)\n",
        "\n",
        "            # Lưu ảnh augmented\n",
        "            aug_img_name = f\"aug_{i}_{img_name}\"\n",
        "            aug_img_path = os.path.join(output_folder, aug_img_name)\n",
        "            cv2.imwrite(aug_img_path, augmented)\n",
        "\n",
        "            # Ghi tên ảnh augmented vào file label mới\n",
        "            file.write(f\"{aug_img_name}\\t{text}\\n\")\n",
        "\n",
        "print(f\"✅ Hoàn tất tạo {num_augmentations} ảnh augment mỗi ảnh gốc! 🎉\")\n"
      ],
      "metadata": {
        "colab": {
          "base_uri": "https://localhost:8080/"
        },
        "id": "iBgo7G2OnKLH",
        "outputId": "5fbd9b09-f9eb-42be-8a5a-fe825137e159"
      },
      "execution_count": null,
      "outputs": [
        {
          "output_type": "stream",
          "name": "stderr",
          "text": [
            "<ipython-input-9-783a49352d8e>:33: UserWarning: Argument(s) 'value' are not valid for transform Rotate\n",
            "  A.Rotate(limit=8, border_mode=cv2.BORDER_CONSTANT, value=(255, 255, 255), p=0.7),\n",
            "<ipython-input-9-783a49352d8e>:41: UserWarning: Argument(s) 'scale_min, scale_max' are not valid for transform Downscale\n",
            "  A.Downscale(scale_min=0.6, scale_max=0.9, p=0.2),\n"
          ]
        },
        {
          "output_type": "stream",
          "name": "stdout",
          "text": [
            "✅ Hoàn tất tạo 5 ảnh augment mỗi ảnh gốc! 🎉\n"
          ]
        }
      ]
    }
  ]
}