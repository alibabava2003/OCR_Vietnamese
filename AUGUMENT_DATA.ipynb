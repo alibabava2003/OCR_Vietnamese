{
  "nbformat": 4,
  "nbformat_minor": 0,
  "metadata": {
    "colab": {
      "provenance": []
    },
    "kernelspec": {
      "name": "python3",
      "display_name": "Python 3"
    },
    "language_info": {
      "name": "python"
    }
  },
  "cells": [
    {
      "cell_type": "code",
      "execution_count": null,
      "metadata": {
        "colab": {
          "base_uri": "https://localhost:8080/"
        },
        "id": "0PwI74a8xbfo",
        "outputId": "b2ace5c6-efca-46b7-9151-c4c4a9e9ccb9"
      },
      "outputs": [
        {
          "output_type": "stream",
          "name": "stdout",
          "text": [
            "Requirement already satisfied: albumentations in /usr/local/lib/python3.11/dist-packages (2.0.5)\n",
            "Requirement already satisfied: opencv-python in /usr/local/lib/python3.11/dist-packages (4.11.0.86)\n",
            "Requirement already satisfied: numpy in /usr/local/lib/python3.11/dist-packages (1.26.4)\n",
            "Requirement already satisfied: scipy>=1.10.0 in /usr/local/lib/python3.11/dist-packages (from albumentations) (1.14.1)\n",
            "Requirement already satisfied: PyYAML in /usr/local/lib/python3.11/dist-packages (from albumentations) (6.0.2)\n",
            "Requirement already satisfied: pydantic>=2.9.2 in /usr/local/lib/python3.11/dist-packages (from albumentations) (2.10.6)\n",
            "Requirement already satisfied: albucore==0.0.23 in /usr/local/lib/python3.11/dist-packages (from albumentations) (0.0.23)\n",
            "Requirement already satisfied: opencv-python-headless>=4.9.0.80 in /usr/local/lib/python3.11/dist-packages (from albumentations) (4.11.0.86)\n",
            "Requirement already satisfied: stringzilla>=3.10.4 in /usr/local/lib/python3.11/dist-packages (from albucore==0.0.23->albumentations) (3.12.2)\n",
            "Requirement already satisfied: simsimd>=5.9.2 in /usr/local/lib/python3.11/dist-packages (from albucore==0.0.23->albumentations) (6.2.1)\n",
            "Requirement already satisfied: annotated-types>=0.6.0 in /usr/local/lib/python3.11/dist-packages (from pydantic>=2.9.2->albumentations) (0.7.0)\n",
            "Requirement already satisfied: pydantic-core==2.27.2 in /usr/local/lib/python3.11/dist-packages (from pydantic>=2.9.2->albumentations) (2.27.2)\n",
            "Requirement already satisfied: typing-extensions>=4.12.2 in /usr/local/lib/python3.11/dist-packages (from pydantic>=2.9.2->albumentations) (4.12.2)\n"
          ]
        }
      ],
      "source": [
        "pip install albumentations opencv-python numpy\n"
      ]
    },
    {
      "cell_type": "code",
      "source": [
        "import os\n",
        "import cv2\n",
        "import numpy as np\n",
        "import albumentations as A\n",
        "\n",
        "# Thư mục chứa ảnh gốc và ảnh augmented\n",
        "input_folder = \"/content/drive/MyDrive/dataaaaaa/OCR_dataset/Line/images\"  # 🛠 Thay đường dẫn ảnh gốc\n",
        "output_folder = \"/content/images\"  # 🛠 Thay đường dẫn lưu ảnh augmented\n",
        "label_file = \"/content/drive/MyDrive/dataaaaaa/OCR_dataset/Line/labels.txt\"  # 🛠 File label gốc\n",
        "output_label_file = \"/content/labels.txt\"  # 🛠 File label sau khi cập nhật\n",
        "\n",
        "os.makedirs(output_folder, exist_ok=True)\n",
        "\n",
        "# Tạo pipeline augment\n",
        "transform = A.Compose([\n",
        "    A.Rotate(limit=5, p=0.5),  # Xoay nhẹ (-5 đến 5 độ)\n",
        "    A.Affine(shear={\"x\": (-5, 5), \"y\": (-5, 5)}, p=0.3),  # Biến dạng nhẹ\n",
        "    A.GaussNoise(var_limit=(10, 50), p=0.3),  # Thêm nhiễu Gaussian\n",
        "    A.MotionBlur(blur_limit=3, p=0.3),  # Mô phỏng mờ do rung tay\n",
        "    A.RandomBrightnessContrast(brightness_limit=0.2, contrast_limit=0.2, p=0.4),  # Điều chỉnh sáng/tương phản\n",
        "    A.ToGray(p=0.2),  # Đôi khi chuyển thành ảnh grayscale\n",
        "    A.Perspective(scale=(0.02, 0.05), p=0.2),  # Biến đổi phối cảnh nhẹ\n",
        "])\n",
        "\n",
        "# Đọc file label gốc\n",
        "with open(label_file, \"r\", encoding=\"utf-8\") as file:\n",
        "    lines = file.readlines()\n",
        "\n",
        "# Tạo file label mới\n",
        "with open(output_label_file, \"w\", encoding=\"utf-8\") as file:\n",
        "    for line in lines:\n",
        "        img_name, text = line.strip().split(\"\\t\", 1)  # Tách tên ảnh và nội dung văn bản\n",
        "        img_path = os.path.join(input_folder, img_name)\n",
        "\n",
        "        # Ghi tên file gốc vào file mới\n",
        "        file.write(f\"{img_name}\\t{text}\\n\")\n",
        "\n",
        "        # Đọc ảnh gốc\n",
        "        image = cv2.imread(img_path)\n",
        "        if image is None:\n",
        "            continue\n",
        "\n",
        "        # Thực hiện augment\n",
        "        augmented = transform(image=image)[\"image\"]\n",
        "\n",
        "        # Lưu ảnh augmented\n",
        "        aug_img_name = f\"aug_{img_name}\"\n",
        "        aug_img_path = os.path.join(output_folder, aug_img_name)\n",
        "        cv\n"
      ],
      "metadata": {
        "colab": {
          "base_uri": "https://localhost:8080/",
          "height": 220
        },
        "id": "le1m7ie8g_4t",
        "outputId": "7d68d8fa-b228-4190-f030-1b3cc45a4f35"
      },
      "execution_count": null,
      "outputs": [
        {
          "output_type": "stream",
          "name": "stderr",
          "text": [
            "<ipython-input-2-8e67b686138c>:18: UserWarning: Argument(s) 'var_limit' are not valid for transform GaussNoise\n",
            "  A.GaussNoise(var_limit=(10, 50), p=0.3),  # Thêm nhiễu Gaussian\n"
          ]
        },
        {
          "output_type": "error",
          "ename": "NameError",
          "evalue": "name 'cv' is not defined",
          "traceback": [
            "\u001b[0;31m---------------------------------------------------------------------------\u001b[0m",
            "\u001b[0;31mNameError\u001b[0m                                 Traceback (most recent call last)",
            "\u001b[0;32m<ipython-input-2-8e67b686138c>\u001b[0m in \u001b[0;36m<cell line: 0>\u001b[0;34m()\u001b[0m\n\u001b[1;32m     47\u001b[0m         \u001b[0maug_img_name\u001b[0m \u001b[0;34m=\u001b[0m \u001b[0;34mf\"aug_{img_name}\"\u001b[0m\u001b[0;34m\u001b[0m\u001b[0;34m\u001b[0m\u001b[0m\n\u001b[1;32m     48\u001b[0m         \u001b[0maug_img_path\u001b[0m \u001b[0;34m=\u001b[0m \u001b[0mos\u001b[0m\u001b[0;34m.\u001b[0m\u001b[0mpath\u001b[0m\u001b[0;34m.\u001b[0m\u001b[0mjoin\u001b[0m\u001b[0;34m(\u001b[0m\u001b[0moutput_folder\u001b[0m\u001b[0;34m,\u001b[0m \u001b[0maug_img_name\u001b[0m\u001b[0;34m)\u001b[0m\u001b[0;34m\u001b[0m\u001b[0;34m\u001b[0m\u001b[0m\n\u001b[0;32m---> 49\u001b[0;31m         \u001b[0mcv\u001b[0m\u001b[0;34m\u001b[0m\u001b[0;34m\u001b[0m\u001b[0m\n\u001b[0m",
            "\u001b[0;31mNameError\u001b[0m: name 'cv' is not defined"
          ]
        }
      ]
    },
    {
      "cell_type": "code",
      "source": [
        "import os\n",
        "import cv2\n",
        "import numpy as np\n",
        "import albumentations as A\n",
        "\n",
        "# Thư mục chứa ảnh gốc và ảnh augmented\n",
        "input_folder = \"/content/drive/MyDrive/dataaaaaa/OCR_dataset/Line/images\"\n",
        "output_folder = \"/content/images2\"\n",
        "label_file = \"/content/drive/MyDrive/dataaaaaa/OCR_dataset/Line/labels.txt\"\n",
        "output_label_file = \"/content/labels2.txt\"\n",
        "\n",
        "os.makedirs(output_folder, exist_ok=True)\n",
        "\n",
        "# Hàm thêm padding trước khi augment\n",
        "def add_padding(image, pad=10):\n",
        "    return cv2.copyMakeBorder(image, pad, pad, pad, pad, cv2.BORDER_CONSTANT, value=(255, 255, 255))\n",
        "\n",
        "# Tạo pipeline augment (Sửa lỗi mất chữ)\n",
        "transform = A.Compose([\n",
        "    A.Rotate(limit=5, border_mode=cv2.BORDER_CONSTANT, value=(255, 255, 255), p=0.5),  # 🛠 Giữ chữ khi xoay\n",
        "    A.Affine(shear={\"x\": (-5, 5), \"y\": (-5, 5)}, p=0.3),\n",
        "    A.GaussNoise(p=0.3),\n",
        "    A.MotionBlur(blur_limit=3, p=0.3),\n",
        "    A.RandomBrightnessContrast(brightness_limit=0.2, contrast_limit=0.2, p=0.4),\n",
        "    A.ToGray(p=0.2),\n",
        "    A.Perspective(scale=(0.02, 0.05), p=0.2),\n",
        "])\n",
        "\n",
        "# Đọc file label gốc\n",
        "with open(label_file, \"r\", encoding=\"utf-8\") as file:\n",
        "    lines = file.readlines()\n",
        "\n",
        "# Tạo file label mới\n",
        "with open(output_label_file, \"w\", encoding=\"utf-8\") as file:\n",
        "    for line in lines:\n",
        "        img_name, text = line.strip().split(\"\\t\", 1)\n",
        "        img_path = os.path.join(input_folder, img_name)\n",
        "\n",
        "        # Ghi tên file gốc vào file mới\n",
        "        file.write(f\"{img_name}\\t{text}\\n\")\n",
        "\n",
        "        # Đọc ảnh gốc\n",
        "        image = cv2.imread(img_path)\n",
        "        if image is None:\n",
        "            continue\n",
        "\n",
        "        # Thêm padding trước khi augment\n",
        "        image = add_padding(image, pad=15)\n",
        "\n",
        "        # Thực hiện augment\n",
        "        augmented = transform(image=image)[\"image\"]\n",
        "\n",
        "        # Lưu ảnh augmented\n",
        "        aug_img_name = f\"aug_{img_name}\"\n",
        "        aug_img_path = os.path.join(output_folder, aug_img_name)\n",
        "        cv2.imwrite(aug_img_path, augmented)\n",
        "\n",
        "        # Ghi tên ảnh augmented vào file label mới\n",
        "        file.write(f\"{aug_img_name}\\t{text}\\n\")\n",
        "\n",
        "print(\"✅ Hoàn tất augment dữ liệu OCR & cập nhật file label!\")\n"
      ],
      "metadata": {
        "colab": {
          "base_uri": "https://localhost:8080/"
        },
        "id": "xrDT-hOGhryb",
        "outputId": "13a49065-f61f-42d7-ced1-3ce771ae75b0"
      },
      "execution_count": null,
      "outputs": [
        {
          "output_type": "stream",
          "name": "stderr",
          "text": [
            "<ipython-input-7-07f0049d1531>:20: UserWarning: Argument(s) 'value' are not valid for transform Rotate\n",
            "  A.Rotate(limit=5, border_mode=cv2.BORDER_CONSTANT, value=(255, 255, 255), p=0.5),  # 🛠 Giữ chữ khi xoay\n"
          ]
        },
        {
          "output_type": "stream",
          "name": "stdout",
          "text": [
            "✅ Hoàn tất augment dữ liệu OCR & cập nhật file label!\n"
          ]
        }
      ]
    },
    {
      "cell_type": "code",
      "source": [
        "import os\n",
        "import cv2\n",
        "import numpy as np\n",
        "import albumentations as A\n",
        "\n",
        "# Thư mục chứa ảnh gốc và ảnh augmented\n",
        "input_folder = \"/content/drive/MyDrive/dataaaaaa/OCR_dataset/Line/images\"\n",
        "output_folder = \"/content/images4\"\n",
        "label_file = \"/content/drive/MyDrive/dataaaaaa/OCR_dataset/Line/labels.txt\"\n",
        "output_label_file = \"/content/labels4.txt\"\n",
        "\n",
        "os.makedirs(output_folder, exist_ok=True)\n",
        "\n",
        "# Số ảnh augment mỗi ảnh gốc\n",
        "num_augmentations = 5\n",
        "\n",
        "# Hàm thêm padding lớn trước khi augment\n",
        "def add_padding(image, pad=30):\n",
        "    return cv2.copyMakeBorder(image, pad, pad, pad, pad, cv2.BORDER_CONSTANT, value=(255, 255, 255))\n",
        "\n",
        "# Hàm cắt lại phần chứa chữ (loại bỏ khoảng trắng thừa)\n",
        "def crop_to_content(image, threshold=240):\n",
        "    gray = cv2.cvtColor(image, cv2.COLOR_BGR2GRAY)\n",
        "    _, thresh = cv2.threshold(gray, threshold, 255, cv2.THRESH_BINARY_INV)\n",
        "    coords = cv2.findNonZero(thresh)\n",
        "    if coords is not None:\n",
        "        x, y, w, h = cv2.boundingRect(coords)\n",
        "        return image[y:y+h, x:x+w]\n",
        "    return image\n",
        "\n",
        "# Tạo pipeline augment (đã tối ưu)\n",
        "transform = A.Compose([\n",
        "    A.Rotate(limit=8, border_mode=cv2.BORDER_CONSTANT, value=(255, 255, 255), p=0.7),\n",
        "    A.Affine(shear={\"x\": (-10, 10), \"y\": (-10, 10)}, p=0.5),\n",
        "    A.GaussNoise(p=0.5),\n",
        "    A.MotionBlur(blur_limit=3, p=0.4),\n",
        "    A.RandomBrightnessContrast(brightness_limit=0.3, contrast_limit=0.3, p=0.5),\n",
        "    A.ToGray(p=0.3),\n",
        "    A.Perspective(scale=(0.02, 0.08), p=0.3),\n",
        "    A.GridDistortion(num_steps=5, distort_limit=0.3, p=0.3),\n",
        "    A.Downscale(scale_min=0.6, scale_max=0.9, p=0.2),\n",
        "])\n",
        "\n",
        "# Đọc file label gốc\n",
        "with open(label_file, \"r\", encoding=\"utf-8\") as file:\n",
        "    lines = file.readlines()\n",
        "\n",
        "# Tạo file label mới\n",
        "with open(output_label_file, \"w\", encoding=\"utf-8\") as file:\n",
        "    for line in lines:\n",
        "        img_name, text = line.strip().split(\"\\t\", 1)\n",
        "        img_path = os.path.join(input_folder, img_name)\n",
        "\n",
        "        # Ghi tên file gốc vào file mới\n",
        "        file.write(f\"{img_name}\\t{text}\\n\")\n",
        "\n",
        "        # Đọc ảnh gốc\n",
        "        image = cv2.imread(img_path)\n",
        "        if image is None:\n",
        "            continue\n",
        "\n",
        "        # Thêm padding trước khi augment\n",
        "        image = add_padding(image, pad=50)  # 🛠 Tăng padding lớn hơn\n",
        "\n",
        "        # Tạo nhiều ảnh augment\n",
        "        for i in range(num_augmentations):\n",
        "            augmented = transform(image=image)[\"image\"]\n",
        "\n",
        "            # Cắt lại vùng chứa chữ\n",
        "            augmented = crop_to_content(augmented)\n",
        "\n",
        "            # Lưu ảnh augmented\n",
        "            aug_img_name = f\"aug_{i}_{img_name}\"\n",
        "            aug_img_path = os.path.join(output_folder, aug_img_name)\n",
        "            cv2.imwrite(aug_img_path, augmented)\n",
        "\n",
        "            # Ghi tên ảnh augmented vào file label mới\n",
        "            file.write(f\"{aug_img_name}\\t{text}\\n\")\n",
        "\n",
        "print(f\"✅ Hoàn tất tạo {num_augmentations} ảnh augment mỗi ảnh gốc! 🎉\")\n"
      ],
      "metadata": {
        "colab": {
          "base_uri": "https://localhost:8080/"
        },
        "id": "iBgo7G2OnKLH",
        "outputId": "5fbd9b09-f9eb-42be-8a5a-fe825137e159"
      },
      "execution_count": null,
      "outputs": [
        {
          "output_type": "stream",
          "name": "stderr",
          "text": [
            "<ipython-input-9-783a49352d8e>:33: UserWarning: Argument(s) 'value' are not valid for transform Rotate\n",
            "  A.Rotate(limit=8, border_mode=cv2.BORDER_CONSTANT, value=(255, 255, 255), p=0.7),\n",
            "<ipython-input-9-783a49352d8e>:41: UserWarning: Argument(s) 'scale_min, scale_max' are not valid for transform Downscale\n",
            "  A.Downscale(scale_min=0.6, scale_max=0.9, p=0.2),\n"
          ]
        },
        {
          "output_type": "stream",
          "name": "stdout",
          "text": [
            "✅ Hoàn tất tạo 5 ảnh augment mỗi ảnh gốc! 🎉\n"
          ]
        }
      ]
    }
  ]
}